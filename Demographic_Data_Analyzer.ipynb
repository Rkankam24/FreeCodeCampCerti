{
  "nbformat": 4,
  "nbformat_minor": 0,
  "metadata": {
    "colab": {
      "provenance": [],
      "authorship_tag": "ABX9TyPu04A8HPR8UW3qrRf3ONWU",
      "include_colab_link": true
    },
    "kernelspec": {
      "name": "python3",
      "display_name": "Python 3"
    },
    "language_info": {
      "name": "python"
    }
  },
  "cells": [
    {
      "cell_type": "markdown",
      "metadata": {
        "id": "view-in-github",
        "colab_type": "text"
      },
      "source": [
        "<a href=\"https://colab.research.google.com/github/Rkankam24/FreeCodeCampCerti/blob/main/Demographic_Data_Analyzer.ipynb\" target=\"_parent\"><img src=\"https://colab.research.google.com/assets/colab-badge.svg\" alt=\"Open In Colab\"/></a>"
      ]
    },
    {
      "cell_type": "code",
      "source": [
        "!pip install ucimlrepo"
      ],
      "metadata": {
        "id": "qdfZoRrEZzEp",
        "colab": {
          "base_uri": "https://localhost:8080/"
        },
        "outputId": "f8b58776-f777-4fac-cda3-9a4339c40a4f"
      },
      "execution_count": 9,
      "outputs": [
        {
          "output_type": "stream",
          "name": "stdout",
          "text": [
            "Requirement already satisfied: ucimlrepo in /usr/local/lib/python3.12/dist-packages (0.0.7)\n",
            "Requirement already satisfied: pandas>=1.0.0 in /usr/local/lib/python3.12/dist-packages (from ucimlrepo) (2.2.2)\n",
            "Requirement already satisfied: certifi>=2020.12.5 in /usr/local/lib/python3.12/dist-packages (from ucimlrepo) (2025.8.3)\n",
            "Requirement already satisfied: numpy>=1.26.0 in /usr/local/lib/python3.12/dist-packages (from pandas>=1.0.0->ucimlrepo) (2.0.2)\n",
            "Requirement already satisfied: python-dateutil>=2.8.2 in /usr/local/lib/python3.12/dist-packages (from pandas>=1.0.0->ucimlrepo) (2.9.0.post0)\n",
            "Requirement already satisfied: pytz>=2020.1 in /usr/local/lib/python3.12/dist-packages (from pandas>=1.0.0->ucimlrepo) (2025.2)\n",
            "Requirement already satisfied: tzdata>=2022.7 in /usr/local/lib/python3.12/dist-packages (from pandas>=1.0.0->ucimlrepo) (2025.2)\n",
            "Requirement already satisfied: six>=1.5 in /usr/local/lib/python3.12/dist-packages (from python-dateutil>=2.8.2->pandas>=1.0.0->ucimlrepo) (1.17.0)\n"
          ]
        }
      ]
    },
    {
      "cell_type": "code",
      "source": [
        "from ucimlrepo import fetch_ucirepo\n",
        "\n",
        "# Fetch the adult dataset\n",
        "adult = fetch_ucirepo(id=2)\n",
        "\n",
        "# Data (as pandas dataframes)\n",
        "X = adult.data.features\n",
        "y = adult.data.targets\n",
        "\n",
        "# Print the first few rows and column names\n",
        "print(\"Features (X) head:\\n\", X.head())\n",
        "print(\"Targets (y) head:\\n\", y.head())\n",
        "print(\"X columns:\", X.columns.tolist())\n",
        "print(\"y columns:\", y.columns.tolist())"
      ],
      "metadata": {
        "colab": {
          "base_uri": "https://localhost:8080/"
        },
        "id": "2mG6DcSkZill",
        "outputId": "7824de81-b63c-45e1-9ff1-1aa991841aab"
      },
      "execution_count": 10,
      "outputs": [
        {
          "output_type": "stream",
          "name": "stdout",
          "text": [
            "Features (X) head:\n",
            "    age         workclass  fnlwgt  education  education-num  \\\n",
            "0   39         State-gov   77516  Bachelors             13   \n",
            "1   50  Self-emp-not-inc   83311  Bachelors             13   \n",
            "2   38           Private  215646    HS-grad              9   \n",
            "3   53           Private  234721       11th              7   \n",
            "4   28           Private  338409  Bachelors             13   \n",
            "\n",
            "       marital-status         occupation   relationship   race     sex  \\\n",
            "0       Never-married       Adm-clerical  Not-in-family  White    Male   \n",
            "1  Married-civ-spouse    Exec-managerial        Husband  White    Male   \n",
            "2            Divorced  Handlers-cleaners  Not-in-family  White    Male   \n",
            "3  Married-civ-spouse  Handlers-cleaners        Husband  Black    Male   \n",
            "4  Married-civ-spouse     Prof-specialty           Wife  Black  Female   \n",
            "\n",
            "   capital-gain  capital-loss  hours-per-week native-country  \n",
            "0          2174             0              40  United-States  \n",
            "1             0             0              13  United-States  \n",
            "2             0             0              40  United-States  \n",
            "3             0             0              40  United-States  \n",
            "4             0             0              40           Cuba  \n",
            "Targets (y) head:\n",
            "   income\n",
            "0  <=50K\n",
            "1  <=50K\n",
            "2  <=50K\n",
            "3  <=50K\n",
            "4  <=50K\n",
            "X columns: ['age', 'workclass', 'fnlwgt', 'education', 'education-num', 'marital-status', 'occupation', 'relationship', 'race', 'sex', 'capital-gain', 'capital-loss', 'hours-per-week', 'native-country']\n",
            "y columns: ['income']\n"
          ]
        }
      ]
    },
    {
      "cell_type": "code",
      "source": [
        "import pandas as pd\n",
        "from ucimlrepo import fetch_ucirepo\n",
        "\n",
        "# Fetch the adult dataset\n",
        "adult = fetch_ucirepo(id=2)\n",
        "\n",
        "# Data (as pandas dataframes)\n",
        "X = adult.data.features\n",
        "y = adult.data.targets\n",
        "\n",
        "# Print the first few rows and column names\n",
        "print(\"Features (X) head:\\n\", X.head())\n",
        "print(\"Targets (y) head:\\n\", y.head())\n",
        "print(\"X columns:\", X.columns.tolist())\n",
        "print(\"y columns:\", y.columns.tolist())\n",
        "\n",
        "def calculate_demographic_data(print_data=True):\n",
        "    # Fetch the adult dataset\n",
        "    adult = fetch_ucirepo(id=2)\n",
        "\n",
        "    # Data (as pandas dataframes)\n",
        "    X = adult.data.features\n",
        "    y = adult.data.targets\n",
        "\n",
        "    # Combine features and targets into a single DataFrame\n",
        "    df = X.copy()\n",
        "    df['salary'] = y.values.ravel()  # Adjust column name if necessary\n",
        "\n",
        "    # How many of each race are represented in this dataset? This should be a Pandas series with race names as the index labels.\n",
        "    race_count = df['race'].value_counts()\n",
        "\n",
        "    # What is the average age of men?\n",
        "    average_age_men = round(df[df['sex'] == 'Male']['age'].mean(), 1)\n",
        "\n",
        "    # What is the percentage of people who have a Bachelor's degree?\n",
        "    percentage_bachelors = round((df['education'] == 'Bachelors').mean() * 100, 1)\n",
        "\n",
        "    # What percentage of people with advanced education (`Bachelors`, `Masters`, or `Doctorate`) make more than 50K?\n",
        "    # What percentage of people without advanced education make more than 50K?\n",
        "    higher_education = df[df['education'].isin(['Bachelors', 'Masters', 'Doctorate'])]\n",
        "    lower_education = df[~df['education'].isin(['Bachelors', 'Masters', 'Doctorate'])]\n",
        "    higher_education_rich = round((higher_education['salary'] == '>50K').mean() * 100, 1)\n",
        "    lower_education_rich = round((lower_education['salary'] == '>50K').mean() * 100, 1)\n",
        "\n",
        "    # What is the minimum number of hours a person works per week (hours-per-week feature)?\n",
        "    min_work_hours = df['hours-per-week'].min()\n",
        "\n",
        "    # What percentage of the people who work the minimum number of hours per week have a salary of >50K?\n",
        "    rich_percentage = round((df[df['hours-per-week'] == min_work_hours]['salary'] == '>50K').mean() * 100, 1)\n",
        "\n",
        "    # What country has the highest percentage of people that earn >50K?\n",
        "    country_earnings = df.groupby('native-country')['salary'].apply(lambda x: (x == '>50K').mean() * 100)\n",
        "    highest_earning_country = country_earnings.idxmax()\n",
        "    highest_earning_country_percentage = round(country_earnings.max(), 1)\n",
        "\n",
        "    # Identify the most popular occupation for those who earn >50K in India.\n",
        "    top_IN_occupation = df[(df['native-country'] == 'India') & (df['salary'] == '>50K')]['occupation'].value_counts().idxmax()\n",
        "\n",
        "    if print_data:\n",
        "        print(\"Number of each race:\\n\", race_count)\n",
        "        print(\"Average age of men:\", average_age_men)\n",
        "        print(f\"Percentage with Bachelors degrees: {percentage_bachelors}%\")\n",
        "        print(f\"Percentage with higher education that earn >50K: {higher_education_rich}%\")\n",
        "        print(f\"Percentage without higher education that earn >50K: {lower_education_rich}%\")\n",
        "        print(f\"Min work time: {min_work_hours} hours/week\")\n",
        "        print(f\"Percentage of rich among those who work fewest hours: {rich_percentage}%\")\n",
        "        print(\"Country with highest percentage of rich:\", highest_earning_country)\n",
        "        print(f\"Highest percentage of rich people in country: {highest_earning_country_percentage}%\")\n",
        "        print(\"Top occupations in India:\", top_IN_occupation)\n",
        "\n",
        "    return {\n",
        "        'race_count': race_count,\n",
        "        'average_age_men': average_age_men,\n",
        "        'percentage_bachelors': percentage_bachelors,\n",
        "        'higher_education_rich': higher_education_rich,\n",
        "        'lower_education_rich': lower_education_rich,\n",
        "        'min_work_hours': min_work_hours,\n",
        "        'rich_percentage': rich_percentage,\n",
        "        'highest_earning_country': highest_earning_country,\n",
        "        'highest_earning_country_percentage': highest_earning_country_percentage,\n",
        "        'top_IN_occupation': top_IN_occupation\n",
        "    }\n",
        "\n",
        "# Run the function to test\n",
        "calculate_demographic_data()"
      ],
      "metadata": {
        "colab": {
          "base_uri": "https://localhost:8080/"
        },
        "id": "MS6SXtHqXbfw",
        "outputId": "28e37334-e9f6-4008-82e9-bd2b63a68687"
      },
      "execution_count": 11,
      "outputs": [
        {
          "output_type": "stream",
          "name": "stdout",
          "text": [
            "Features (X) head:\n",
            "    age         workclass  fnlwgt  education  education-num  \\\n",
            "0   39         State-gov   77516  Bachelors             13   \n",
            "1   50  Self-emp-not-inc   83311  Bachelors             13   \n",
            "2   38           Private  215646    HS-grad              9   \n",
            "3   53           Private  234721       11th              7   \n",
            "4   28           Private  338409  Bachelors             13   \n",
            "\n",
            "       marital-status         occupation   relationship   race     sex  \\\n",
            "0       Never-married       Adm-clerical  Not-in-family  White    Male   \n",
            "1  Married-civ-spouse    Exec-managerial        Husband  White    Male   \n",
            "2            Divorced  Handlers-cleaners  Not-in-family  White    Male   \n",
            "3  Married-civ-spouse  Handlers-cleaners        Husband  Black    Male   \n",
            "4  Married-civ-spouse     Prof-specialty           Wife  Black  Female   \n",
            "\n",
            "   capital-gain  capital-loss  hours-per-week native-country  \n",
            "0          2174             0              40  United-States  \n",
            "1             0             0              13  United-States  \n",
            "2             0             0              40  United-States  \n",
            "3             0             0              40  United-States  \n",
            "4             0             0              40           Cuba  \n",
            "Targets (y) head:\n",
            "   income\n",
            "0  <=50K\n",
            "1  <=50K\n",
            "2  <=50K\n",
            "3  <=50K\n",
            "4  <=50K\n",
            "X columns: ['age', 'workclass', 'fnlwgt', 'education', 'education-num', 'marital-status', 'occupation', 'relationship', 'race', 'sex', 'capital-gain', 'capital-loss', 'hours-per-week', 'native-country']\n",
            "y columns: ['income']\n",
            "Number of each race:\n",
            " race\n",
            "White                 41762\n",
            "Black                  4685\n",
            "Asian-Pac-Islander     1519\n",
            "Amer-Indian-Eskimo      470\n",
            "Other                   406\n",
            "Name: count, dtype: int64\n",
            "Average age of men: 39.5\n",
            "Percentage with Bachelors degrees: 16.4%\n",
            "Percentage with higher education that earn >50K: 30.9%\n",
            "Percentage without higher education that earn >50K: 11.6%\n",
            "Min work time: 1 hours/week\n",
            "Percentage of rich among those who work fewest hours: 7.4%\n",
            "Country with highest percentage of rich: France\n",
            "Highest percentage of rich people in country: 31.6%\n",
            "Top occupations in India: Prof-specialty\n"
          ]
        },
        {
          "output_type": "execute_result",
          "data": {
            "text/plain": [
              "{'race_count': race\n",
              " White                 41762\n",
              " Black                  4685\n",
              " Asian-Pac-Islander     1519\n",
              " Amer-Indian-Eskimo      470\n",
              " Other                   406\n",
              " Name: count, dtype: int64,\n",
              " 'average_age_men': np.float64(39.5),\n",
              " 'percentage_bachelors': np.float64(16.4),\n",
              " 'higher_education_rich': np.float64(30.9),\n",
              " 'lower_education_rich': np.float64(11.6),\n",
              " 'min_work_hours': 1,\n",
              " 'rich_percentage': np.float64(7.4),\n",
              " 'highest_earning_country': 'France',\n",
              " 'highest_earning_country_percentage': 31.6,\n",
              " 'top_IN_occupation': 'Prof-specialty'}"
            ]
          },
          "metadata": {},
          "execution_count": 11
        }
      ]
    }
  ]
}
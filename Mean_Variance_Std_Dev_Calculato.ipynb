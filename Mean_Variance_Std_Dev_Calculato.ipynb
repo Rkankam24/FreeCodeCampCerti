{
  "nbformat": 4,
  "nbformat_minor": 0,
  "metadata": {
    "colab": {
      "provenance": [],
      "authorship_tag": "ABX9TyNVKnT3v5SvYqCTn/T+hYgO",
      "include_colab_link": true
    },
    "kernelspec": {
      "name": "python3",
      "display_name": "Python 3"
    },
    "language_info": {
      "name": "python"
    }
  },
  "cells": [
    {
      "cell_type": "markdown",
      "metadata": {
        "id": "view-in-github",
        "colab_type": "text"
      },
      "source": [
        "<a href=\"https://colab.research.google.com/github/Rkankam24/FreeCodeCampCerti/blob/main/Mean_Variance_Std_Dev_Calculato.ipynb\" target=\"_parent\"><img src=\"https://colab.research.google.com/assets/colab-badge.svg\" alt=\"Open In Colab\"/></a>"
      ]
    },
    {
      "cell_type": "code",
      "execution_count": 7,
      "metadata": {
        "id": "AI5j8B7VHEqu",
        "colab": {
          "base_uri": "https://localhost:8080/"
        },
        "outputId": "d73d0106-2dc8-4043-e971-b4c4a079d3e5"
      },
      "outputs": [
        {
          "output_type": "stream",
          "name": "stdout",
          "text": [
            "{'mean': [[3.0, 4.0, 5.0], [1.0, 4.0, 7.0], np.float64(4.0)], 'variance': [[6.0, 6.0, 6.0], [0.6666666666666666, 0.6666666666666666, 0.6666666666666666], np.float64(6.666666666666667)], 'standard deviation': [[2.449489742783178, 2.449489742783178, 2.449489742783178], [0.816496580927726, 0.816496580927726, 0.816496580927726], np.float64(2.581988897471611)], 'max': [[6, 7, 8], [2, 5, 8], np.int64(8)], 'min': [[0, 1, 2], [0, 3, 6], np.int64(0)], 'sum': [[9, 12, 15], [3, 12, 21], np.int64(36)]}\n"
          ]
        }
      ],
      "source": [
        "import numpy as np\n",
        "\n",
        "def calculate(lst):\n",
        "    if len(lst) != 9:\n",
        "        raise ValueError(\"List must contain nine numbers.\")\n",
        "    arr = np.array(lst).reshape(3, 3)\n",
        "    calculations = {\n",
        "        'mean': [np.mean(arr, axis=0).tolist(), np.mean(arr, axis=1).tolist(), np.mean(arr)],\n",
        "        'variance': [np.var(arr, axis=0).tolist(), np.var(arr, axis=1).tolist(), np.var(arr)],\n",
        "        'standard deviation': [np.std(arr, axis=0).tolist(), np.std(arr, axis=1).tolist(), np.std(arr)],\n",
        "        'max': [np.max(arr, axis=0).tolist(), np.max(arr, axis=1).tolist(), np.max(arr)],\n",
        "        'min': [np.min(arr, axis=0).tolist(), np.min(arr, axis=1).tolist(), np.min(arr)],\n",
        "        'sum': [np.sum(arr, axis=0).tolist(), np.sum(arr, axis=1).tolist(), np.sum(arr)]\n",
        "    }\n",
        "    return calculations\n",
        "\n",
        "\n",
        "print(calculate([0,1,2,3,4,5,6,7,8]))"
      ]
    }
  ]
}